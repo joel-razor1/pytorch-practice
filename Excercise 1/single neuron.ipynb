{
 "cells": [
  {
   "cell_type": "code",
   "execution_count": 6,
   "metadata": {},
   "outputs": [],
   "source": [
    "#Program to calculate the output for a single neuron.\n",
    "import torch\n",
    "#     now we will return the value of the input to sigmoid so that the output would get a probablity output\n",
    "def activation(x):\n",
    "    return 1/(1+torch.exp(-x))\n",
    "\n",
    "torch.manual_seed(7)\n",
    "\n",
    "features=torch.randn((1,5))\n",
    "weights=torch.randn_like(features)\n",
    "bias=torch.randn((1,1))\n",
    "\n",
    "    "
   ]
  },
  {
   "cell_type": "code",
   "execution_count": 10,
   "metadata": {},
   "outputs": [],
   "source": [
    "output=activation(torch.sum(features*weights)+bias)\n",
    "# There is another method for implementing torch.sum() for the above code.\n",
    "#output=activation((features*weights).sum()+bias)\n",
    "#This can also be implemented using torch.mm() function . Just make sure that during multiplication, the tensor shape is correct.\n",
    "output=activation(torch.mm(features,weights.view(5,1))+bias)"
   ]
  },
  {
   "cell_type": "code",
   "execution_count": 11,
   "metadata": {},
   "outputs": [
    {
     "name": "stdout",
     "output_type": "stream",
     "text": [
      "tensor([[0.1595]])\n"
     ]
    }
   ],
   "source": [
    "print(output)"
   ]
  },
  {
   "cell_type": "code",
   "execution_count": null,
   "metadata": {},
   "outputs": [],
   "source": []
  }
 ],
 "metadata": {
  "kernelspec": {
   "display_name": "Python 3",
   "language": "python",
   "name": "python3"
  },
  "language_info": {
   "codemirror_mode": {
    "name": "ipython",
    "version": 3
   },
   "file_extension": ".py",
   "mimetype": "text/x-python",
   "name": "python",
   "nbconvert_exporter": "python",
   "pygments_lexer": "ipython3",
   "version": "3.7.0"
  }
 },
 "nbformat": 4,
 "nbformat_minor": 2
}
