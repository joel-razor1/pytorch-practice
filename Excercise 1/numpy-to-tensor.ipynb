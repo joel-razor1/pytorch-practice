{
 "cells": [
  {
   "cell_type": "code",
   "execution_count": 2,
   "metadata": {},
   "outputs": [
    {
     "data": {
      "text/plain": [
       "array([[0.84884266, 0.06216292, 0.56449973],\n",
       "       [0.7401291 , 0.69483347, 0.9379536 ],\n",
       "       [0.45346586, 0.53640454, 0.90775677],\n",
       "       [0.57063211, 0.82572146, 0.97348246]])"
      ]
     },
     "execution_count": 2,
     "metadata": {},
     "output_type": "execute_result"
    }
   ],
   "source": [
    "import torch\n",
    "import numpy as np\n",
    "a=np.random.rand(4,3)\n",
    "a"
   ]
  },
  {
   "cell_type": "code",
   "execution_count": 3,
   "metadata": {},
   "outputs": [
    {
     "data": {
      "text/plain": [
       "tensor([[0.8488, 0.0622, 0.5645],\n",
       "        [0.7401, 0.6948, 0.9380],\n",
       "        [0.4535, 0.5364, 0.9078],\n",
       "        [0.5706, 0.8257, 0.9735]], dtype=torch.float64)"
      ]
     },
     "execution_count": 3,
     "metadata": {},
     "output_type": "execute_result"
    }
   ],
   "source": [
    "b=torch.from_numpy(a)\n",
    "b"
   ]
  },
  {
   "cell_type": "code",
   "execution_count": 4,
   "metadata": {},
   "outputs": [
    {
     "data": {
      "text/plain": [
       "array([[0.84884266, 0.06216292, 0.56449973],\n",
       "       [0.7401291 , 0.69483347, 0.9379536 ],\n",
       "       [0.45346586, 0.53640454, 0.90775677],\n",
       "       [0.57063211, 0.82572146, 0.97348246]])"
      ]
     },
     "execution_count": 4,
     "metadata": {},
     "output_type": "execute_result"
    }
   ],
   "source": [
    "b.numpy()"
   ]
  },
  {
   "cell_type": "code",
   "execution_count": 5,
   "metadata": {},
   "outputs": [
    {
     "data": {
      "text/plain": [
       "tensor([[1.6977, 0.1243, 1.1290],\n",
       "        [1.4803, 1.3897, 1.8759],\n",
       "        [0.9069, 1.0728, 1.8155],\n",
       "        [1.1413, 1.6514, 1.9470]], dtype=torch.float64)"
      ]
     },
     "execution_count": 5,
     "metadata": {},
     "output_type": "execute_result"
    }
   ],
   "source": [
    "b.mul_(2)"
   ]
  },
  {
   "cell_type": "code",
   "execution_count": 6,
   "metadata": {},
   "outputs": [
    {
     "data": {
      "text/plain": [
       "array([[1.69768532, 0.12432585, 1.12899947],\n",
       "       [1.4802582 , 1.38966695, 1.8759072 ],\n",
       "       [0.90693172, 1.07280908, 1.81551354],\n",
       "       [1.14126423, 1.65144293, 1.94696492]])"
      ]
     },
     "execution_count": 6,
     "metadata": {},
     "output_type": "execute_result"
    }
   ],
   "source": [
    "a"
   ]
  },
  {
   "cell_type": "code",
   "execution_count": null,
   "metadata": {},
   "outputs": [],
   "source": []
  }
 ],
 "metadata": {
  "kernelspec": {
   "display_name": "Python 3",
   "language": "python",
   "name": "python3"
  },
  "language_info": {
   "codemirror_mode": {
    "name": "ipython",
    "version": 3
   },
   "file_extension": ".py",
   "mimetype": "text/x-python",
   "name": "python",
   "nbconvert_exporter": "python",
   "pygments_lexer": "ipython3",
   "version": "3.7.0"
  }
 },
 "nbformat": 4,
 "nbformat_minor": 2
}
